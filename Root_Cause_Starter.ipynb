{
  "nbformat": 4,
  "nbformat_minor": 0,
  "metadata": {
    "colab": {
      "name": "Root Cause Starter",
      "provenance": [],
      "collapsed_sections": [],
      "authorship_tag": "ABX9TyOPTv5a/+vE4aI46q1Ig2yu",
      "include_colab_link": true
    },
    "kernelspec": {
      "name": "python3",
      "display_name": "Python 3"
    },
    "language_info": {
      "name": "python"
    }
  },
  "cells": [
    {
      "cell_type": "markdown",
      "metadata": {
        "id": "view-in-github",
        "colab_type": "text"
      },
      "source": [
        "<a href=\"https://colab.research.google.com/github/sko9370/rootCauseAnalysis/blob/main/Root_Cause_Starter.ipynb\" target=\"_parent\"><img src=\"https://colab.research.google.com/assets/colab-badge.svg\" alt=\"Open In Colab\"/></a>"
      ]
    },
    {
      "cell_type": "code",
      "metadata": {
        "id": "G799VVQBHXui"
      },
      "source": [
        "# download and uncompress the accumulated log\n",
        "!wget https://github.com/sko9370/rootCauseAnalysis/raw/main/host.zip\n",
        "!unzip host.zip\n",
        "!rm host.zip"
      ],
      "execution_count": null,
      "outputs": []
    },
    {
      "cell_type": "code",
      "metadata": {
        "id": "mdJvO-Yd1yMX"
      },
      "source": [
        "# install package to be able to load in json logs\n",
        "!pip install pyspark\n",
        "from pyspark.sql import SparkSession\n",
        "spark = SparkSession.builder.getOrCreate()\n",
        "spark.conf.set(\"spark.sql.caseSensitive\", \"true\")\n",
        "\n",
        "# ingest host.json log into a spark dataframe\n",
        "sparkdf = spark.read.json(\"host.json\")\n",
        "# create table compatible with SQL queries\n",
        "sparkdf.createTempView(\"host\")"
      ],
      "execution_count": null,
      "outputs": []
    },
    {
      "cell_type": "code",
      "metadata": {
        "id": "xINMk8ww_ESK"
      },
      "source": [
        "# run a sql query on previously ingested log. use the name from the .createTempView method\n",
        "# DESCRIBE is a sql function that lists all the columns and the type of data they use\n",
        "describe = spark.sql(\n",
        "'''\n",
        "DESCRIBE host\n",
        "''')\n",
        "# .show(<number of rows to show>, <truncate> means to cut off columns to make them fit on the screen)\n",
        "# setting vertical to true may be easier to view (similar to default Splunk view) if there are a lot of columns\n",
        "describe.show(40, truncate = 70, vertical = False)"
      ],
      "execution_count": null,
      "outputs": []
    },
    {
      "cell_type": "code",
      "metadata": {
        "id": "UulHbF-A29RQ"
      },
      "source": [
        "# a little bit more complex query that aggregates Image names in sysmon log entries and outputs in ascending order\n",
        "process = spark.sql(\n",
        "'''\n",
        "SELECT Image, count(*) as count\n",
        "FROM host\n",
        "WHERE Channel = \"Microsoft-Windows-Sysmon/Operational\"\n",
        "    AND EventID = 1\n",
        "GROUP BY Image\n",
        "ORDER BY count ASC\n",
        "''')\n",
        "process.show(40, truncate = 70)"
      ],
      "execution_count": null,
      "outputs": []
    },
    {
      "cell_type": "code",
      "metadata": {
        "id": "74S81KiP3mna"
      },
      "source": [
        "# another method to query using a more code-like syntax if you are unfamiliar with sql. very similar keywords however\n",
        "# also note that this method uses the dataframe directly instead of the temporary view (sql)\n",
        "registryValues = sparkdf.filter(\"Channel == 'Microsoft-Windows-Sysmon/Operational' AND EventID == 13\")\\\n",
        "    .groupBy('TargetObject').count().orderBy('count',ascending = False).show(truncate = 90)"
      ],
      "execution_count": null,
      "outputs": []
    },
    {
      "cell_type": "code",
      "metadata": {
        "id": "Zb7LS8_Y8r4C"
      },
      "source": [
        "# types of log entires available\n",
        "channels = spark.sql(\n",
        "'''\n",
        "SELECT Channel, count(Channel) as count\n",
        "FROM host\n",
        "GROUP BY Channel\n",
        "ORDER BY count DESC\n",
        "'''\n",
        ")\n",
        "channels.show(100, truncate = False)"
      ],
      "execution_count": null,
      "outputs": []
    },
    {
      "cell_type": "code",
      "metadata": {
        "id": "PYGTcDgMitRd"
      },
      "source": [
        "# alternate method for same thing\n",
        "sources = sparkdf.groupBy('Channel').count().orderBy('count',ascending = False).show(truncate = False)"
      ],
      "execution_count": null,
      "outputs": []
    }
  ]
}