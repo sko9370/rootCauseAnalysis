{
  "nbformat": 4,
  "nbformat_minor": 0,
  "metadata": {
    "colab": {
      "name": "Individual Logs Starter",
      "provenance": [],
      "collapsed_sections": [],
      "authorship_tag": "ABX9TyMNPSwURn4SoGMWeasl2J9Y",
      "include_colab_link": true
    },
    "kernelspec": {
      "name": "python3",
      "display_name": "Python 3"
    },
    "language_info": {
      "name": "python"
    }
  },
  "cells": [
    {
      "cell_type": "markdown",
      "metadata": {
        "id": "view-in-github",
        "colab_type": "text"
      },
      "source": [
        "<a href=\"https://colab.research.google.com/github/sko9370/rootCauseAnalysis/blob/main/Individual_Logs_Starter.ipynb\" target=\"_parent\"><img src=\"https://colab.research.google.com/assets/colab-badge.svg\" alt=\"Open In Colab\"/></a>"
      ]
    },
    {
      "cell_type": "code",
      "metadata": {
        "id": "nmebDGECOh8a"
      },
      "source": [
        "# download and uncompress the logs\n",
        "!wget https://github.com/sko9370/rootCauseAnalysis/raw/main/logs.zip\n",
        "!unzip logs.zip\n",
        "!rm logs.zip"
      ],
      "execution_count": null,
      "outputs": []
    },
    {
      "cell_type": "code",
      "metadata": {
        "id": "EoKs_huzOqlq"
      },
      "source": [
        "# install package to be able to load in json logs\n",
        "!pip install pyspark\n",
        "from pyspark.sql import SparkSession\n",
        "spark = SparkSession.builder.getOrCreate()\n",
        "spark.conf.set(\"spark.sql.caseSensitive\", \"true\")"
      ],
      "execution_count": null,
      "outputs": []
    },
    {
      "cell_type": "code",
      "metadata": {
        "id": "fyJYJn23SrXp"
      },
      "source": [
        "# ingest sysmon.json log\n",
        "sysmon_df = spark.read.json(\"logs/sysmon.json\")\n",
        "sysmon_df.createTempView(\"sysmon\")\n",
        "\n",
        "# ingest powershell_operational.json log\n",
        "psop_df = spark.read.json(\"logs/powershell_operational.json\")\n",
        "psop_df.createTempView(\"psop\")"
      ],
      "execution_count": 6,
      "outputs": []
    },
    {
      "cell_type": "code",
      "metadata": {
        "id": "ED0S5MfuPG-b"
      },
      "source": [
        "# run a sql query on previously ingested \"firewall\" log. use the name from the .createTempView method\n",
        "# DESCRIBE is a sql function that lists all the columns and the type of data they use\n",
        "psop = spark.sql(\n",
        "'''\n",
        "DESCRIBE psop\n",
        "'''\n",
        ")\n",
        "# .show(<number of rows to show>, <truncate means to cut off columns to make them fit on the screen)\n",
        "psop.show(100, truncate = False)"
      ],
      "execution_count": null,
      "outputs": []
    },
    {
      "cell_type": "code",
      "metadata": {
        "id": "S6giBuegPUtn"
      },
      "source": [
        "# same thing with sysmon here\n",
        "sysmon = spark.sql(\n",
        "'''\n",
        "DESCRIBE sysmon\n",
        "'''\n",
        ")\n",
        "# new option here, vertical lists the columns vertically instead of horizontally like the above\n",
        "# this is useful for fitting log entries with MANY columns on one screen\n",
        "sysmon.show(100, truncate = False, vertical = True)"
      ],
      "execution_count": null,
      "outputs": []
    },
    {
      "cell_type": "code",
      "metadata": {
        "id": "-3M62bntQCbT"
      },
      "source": [
        "# a more complex query that counts the number of each EventID in the sysmon log and orders them in descending (DESC) order\n",
        "sysmon = spark.sql(\n",
        "'''\n",
        "SELECT EventID, COUNT(EventID) AS MOST_FREQUENT\n",
        "FROM sysmon\n",
        "GROUP BY EventID\n",
        "ORDER BY COUNT(EventID) DESC\n",
        "'''\n",
        ")\n",
        "sysmon.show(100, truncate = False)"
      ],
      "execution_count": null,
      "outputs": []
    },
    {
      "cell_type": "code",
      "metadata": {
        "id": "V4A_oesLRy5Z"
      },
      "source": [
        "# iterates through each column and counts the occurance of each unique entry and orders in descending order\n",
        "# notice this does not use the temporary view (sql) and instead references the data directly through the dataframe (sysmon_df)\n",
        "most_frequent = []\n",
        "for col in sysmon_df.columns:\n",
        "    most_frequent.append(sysmon_df.groupBy(col).count().orderBy('count',ascending = False))"
      ],
      "execution_count": null,
      "outputs": []
    },
    {
      "cell_type": "code",
      "metadata": {
        "id": "0K6spHWTWA4g"
      },
      "source": [
        "# this actually prints out the top 5 most frequent entries for each column starting with the 5th column (previous ones were mostly unique or uninteresting)\n",
        "# this will help you determine which columns are useful to actually query on or investigate\n",
        "for col in most_frequent[5:]:\n",
        "    col.show(5, truncate = False)"
      ],
      "execution_count": null,
      "outputs": []
    },
    {
      "cell_type": "code",
      "metadata": {
        "id": "x3SrU7rQugHT"
      },
      "source": [
        "# yet another method to query using a more code-like syntax if you are unfamiliar with sql. very similar keywords however\n",
        "# also note that this method uses the dataframe (sysmon_df) directly instead of the temporary view (sql)\n",
        "sysmonEid1 = sysmon_df.filter(\"EventID == 1\").groupBy('Image').count().orderBy('count',ascending = False).show(30,truncate = False)"
      ],
      "execution_count": null,
      "outputs": []
    },
    {
      "cell_type": "code",
      "metadata": {
        "id": "cyFkPpGExnmv"
      },
      "source": [
        ""
      ],
      "execution_count": null,
      "outputs": []
    }
  ]
}